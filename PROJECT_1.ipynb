{
 "cells": [
  {
   "cell_type": "code",
   "execution_count": 2,
   "id": "10619c6f-9724-47a8-9276-8cec3090c9b1",
   "metadata": {},
   "outputs": [],
   "source": [
    "import requests\n",
    "from bs4 import BeautifulSoup as bs\n",
    "from urllib.request import urlopen\n",
    "import logging"
   ]
  },
  {
   "cell_type": "code",
   "execution_count": 73,
   "id": "84213683-cb32-4109-a32c-252efa7d2338",
   "metadata": {},
   "outputs": [],
   "source": [
    "flipcart_url = \"https://www.flipkart.com/search?q=\" + \"redminote125g\""
   ]
  },
  {
   "cell_type": "code",
   "execution_count": 74,
   "id": "4f2d3c17-2ea9-44db-80c6-5449ca600d4a",
   "metadata": {},
   "outputs": [
    {
     "data": {
      "text/plain": [
       "'https://www.flipkart.com/search?q=redminote125g'"
      ]
     },
     "execution_count": 74,
     "metadata": {},
     "output_type": "execute_result"
    }
   ],
   "source": [
    "flipcart_url"
   ]
  },
  {
   "cell_type": "code",
   "execution_count": 75,
   "id": "15d9aeae-002b-451f-8866-5593e0419bb5",
   "metadata": {},
   "outputs": [],
   "source": [
    "urlclient = urlopen(flipcart_url)"
   ]
  },
  {
   "cell_type": "code",
   "execution_count": 76,
   "id": "60121e61-146e-442a-aa0e-4f70ea31837f",
   "metadata": {},
   "outputs": [
    {
     "data": {
      "text/plain": [
       "<http.client.HTTPResponse at 0x7f10994ae620>"
      ]
     },
     "execution_count": 76,
     "metadata": {},
     "output_type": "execute_result"
    }
   ],
   "source": [
    "urlclient"
   ]
  },
  {
   "cell_type": "code",
   "execution_count": 77,
   "id": "8560c90a-c96a-4875-8c65-1465da51f789",
   "metadata": {},
   "outputs": [],
   "source": [
    "flipcart_page = urlclient.read()"
   ]
  },
  {
   "cell_type": "code",
   "execution_count": 78,
   "id": "b3e58206-b2ab-487d-a341-5ab7dffbd372",
   "metadata": {},
   "outputs": [],
   "source": [
    "flipcart_html = bs(flipcart_page,'html.parser')"
   ]
  },
  {
   "cell_type": "code",
   "execution_count": 79,
   "id": "d3a2a832-1975-4460-845a-985daa98dd0a",
   "metadata": {},
   "outputs": [
    {
     "data": {
      "text/plain": [
       "'https://www.flipkart.com/apple-iphone-14-pro-max-space-black-128-gb/p/itm9aed88fe43457?pid=MOBGHWFHCNVGGMZF&lid=LSTMOBGHWFHCNVGGMZFEEIZN3&marketplace=FLIPKART&q=iphone14promax&store=tyy%2F4io&srno=s_1_1&otracker=search&fm=organic&iid=aaf3f53b-2114-492f-b5ab-ded2fa153f71.MOBGHWFHCNVGGMZF.SEARCH&ppt=None&ppn=None&ssid=ru89zf9cog0000001687443208502&qH=f51796ea5f1fbb15'"
      ]
     },
     "execution_count": 79,
     "metadata": {},
     "output_type": "execute_result"
    }
   ],
   "source": [
    "\"https://www.flipkart.com/\"+\"apple-iphone-14-pro-max-space-black-128-gb/p/itm9aed88fe43457?pid=MOBGHWFHCNVGGMZF&lid=LSTMOBGHWFHCNVGGMZFEEIZN3&marketplace=FLIPKART&q=iphone14promax&store=tyy%2F4io&srno=s_1_1&otracker=search&fm=organic&iid=aaf3f53b-2114-492f-b5ab-ded2fa153f71.MOBGHWFHCNVGGMZF.SEARCH&ppt=None&ppn=None&ssid=ru89zf9cog0000001687443208502&qH=f51796ea5f1fbb15\""
   ]
  },
  {
   "cell_type": "code",
   "execution_count": 80,
   "id": "3792c2a4-dfb7-45aa-bbdc-eba23d9bdf74",
   "metadata": {},
   "outputs": [],
   "source": [
    "bigbox = flipcart_html.findAll(\"div\" , {'class':\"_1AtVbE col-12-12\"})"
   ]
  },
  {
   "cell_type": "code",
   "execution_count": 81,
   "id": "5249dad7-cf7f-4107-8fb1-908915129a16",
   "metadata": {},
   "outputs": [
    {
     "data": {
      "text/plain": [
       "30"
      ]
     },
     "execution_count": 81,
     "metadata": {},
     "output_type": "execute_result"
    }
   ],
   "source": [
    "len(bigbox)"
   ]
  },
  {
   "cell_type": "code",
   "execution_count": 82,
   "id": "a992c906-ba4c-458d-944e-b14105006a23",
   "metadata": {},
   "outputs": [],
   "source": [
    "del bigbox[0:3]"
   ]
  },
  {
   "cell_type": "code",
   "execution_count": 85,
   "id": "26539a7c-6db1-47cf-bf24-5ad33e853a45",
   "metadata": {},
   "outputs": [],
   "source": [
    "product_link = \"https://www.flipkart.com\"+bigbox[3].div.div.div.a['href']"
   ]
  },
  {
   "cell_type": "code",
   "execution_count": 86,
   "id": "7806429a-26a1-4482-9fb1-00d63f3d3a75",
   "metadata": {},
   "outputs": [],
   "source": [
    "product_req = requests.get(product_link)"
   ]
  },
  {
   "cell_type": "code",
   "execution_count": 87,
   "id": "4c5fb4a7-7522-44ff-af3a-75a84b6fc3d3",
   "metadata": {},
   "outputs": [
    {
     "data": {
      "text/plain": [
       "'https://www.flipkart.com/redmi-note-12-5g-matte-black-256-gb/p/itmd22fe65114bd9?pid=MOBGPGBZEHZYWQZX&lid=LSTMOBGPGBZEHZYWQZXGZHYI3&marketplace=FLIPKART&q=redminote125g&store=tyy%2F4io&srno=s_1_5&otracker=search&fm=organic&iid=000e0642-ba21-4603-9863-57034d01ccfe.MOBGPGBZEHZYWQZX.SEARCH&ppt=None&ppn=None&ssid=dvbwmxdths0000001687494034247&qH=6f1e45d34b7cc372'"
      ]
     },
     "execution_count": 87,
     "metadata": {},
     "output_type": "execute_result"
    }
   ],
   "source": [
    "product_link"
   ]
  },
  {
   "cell_type": "code",
   "execution_count": 88,
   "id": "f576e7d2-4cc1-494a-b631-1b2282682416",
   "metadata": {},
   "outputs": [],
   "source": [
    "product_html = bs(product_req.text,'html.parser')"
   ]
  },
  {
   "cell_type": "code",
   "execution_count": 89,
   "id": "480c29a3-bb07-49ba-8d87-17c6808c27bf",
   "metadata": {},
   "outputs": [],
   "source": [
    "comment_box = product_html.find_all(\"div\",{\"class\":\"_16PBlm\"})"
   ]
  },
  {
   "cell_type": "code",
   "execution_count": 90,
   "id": "618fd7d3-2cf0-475c-bf8d-4846be4daf0c",
   "metadata": {},
   "outputs": [
    {
     "data": {
      "text/plain": [
       "11"
      ]
     },
     "execution_count": 90,
     "metadata": {},
     "output_type": "execute_result"
    }
   ],
   "source": [
    "len(comment_box)"
   ]
  },
  {
   "cell_type": "code",
   "execution_count": 91,
   "id": "5cf5de67-7d19-4fea-9ead-149ff5924320",
   "metadata": {},
   "outputs": [
    {
     "name": "stdout",
     "output_type": "stream",
     "text": [
      "Athul\n",
      "Flipkart Customer\n",
      "dipanshu  sinha\n",
      "Flipkart Customer\n",
      "MAYUKH Kundu\n",
      "Mohammad aziz Aziz\n",
      "Jayamurugan S\n",
      "Taraprasad Bhuyan\n",
      "keshav Anand\n",
      "Brijendra Kushwaha\n"
     ]
    },
    {
     "ename": "AttributeError",
     "evalue": "'NoneType' object has no attribute 'div'",
     "output_type": "error",
     "traceback": [
      "\u001b[0;31m---------------------------------------------------------------------------\u001b[0m",
      "\u001b[0;31mAttributeError\u001b[0m                            Traceback (most recent call last)",
      "Cell \u001b[0;32mIn[91], line 2\u001b[0m\n\u001b[1;32m      1\u001b[0m \u001b[38;5;28;01mfor\u001b[39;00m i \u001b[38;5;129;01min\u001b[39;00m comment_box:\n\u001b[0;32m----> 2\u001b[0m     \u001b[38;5;28mprint\u001b[39m(\u001b[43mi\u001b[49m\u001b[38;5;241;43m.\u001b[39;49m\u001b[43mdiv\u001b[49m\u001b[38;5;241;43m.\u001b[39;49m\u001b[43mdiv\u001b[49m\u001b[38;5;241m.\u001b[39mfind_all(\u001b[38;5;124m'\u001b[39m\u001b[38;5;124mp\u001b[39m\u001b[38;5;124m'\u001b[39m,{\u001b[38;5;124m\"\u001b[39m\u001b[38;5;124mclass\u001b[39m\u001b[38;5;124m\"\u001b[39m:\u001b[38;5;124m\"\u001b[39m\u001b[38;5;124m_2sc7ZR _2V5EHH\u001b[39m\u001b[38;5;124m\"\u001b[39m})[\u001b[38;5;241m0\u001b[39m]\u001b[38;5;241m.\u001b[39mtext)\n",
      "\u001b[0;31mAttributeError\u001b[0m: 'NoneType' object has no attribute 'div'"
     ]
    }
   ],
   "source": [
    "for i in comment_box:\n",
    "    print(i.div.div.find_all('p',{\"class\":\"_2sc7ZR _2V5EHH\"})[0].text)"
   ]
  },
  {
   "cell_type": "code",
   "execution_count": 92,
   "id": "5af9682a-438f-4536-a7e7-74d134980e1b",
   "metadata": {},
   "outputs": [
    {
     "name": "stdout",
     "output_type": "stream",
     "text": [
      "1\n",
      "3\n",
      "5\n",
      "5\n",
      "5\n",
      "4\n",
      "3\n",
      "5\n",
      "1\n",
      "5\n"
     ]
    },
    {
     "ename": "AttributeError",
     "evalue": "'NoneType' object has no attribute 'div'",
     "output_type": "error",
     "traceback": [
      "\u001b[0;31m---------------------------------------------------------------------------\u001b[0m",
      "\u001b[0;31mAttributeError\u001b[0m                            Traceback (most recent call last)",
      "Cell \u001b[0;32mIn[92], line 2\u001b[0m\n\u001b[1;32m      1\u001b[0m \u001b[38;5;28;01mfor\u001b[39;00m i \u001b[38;5;129;01min\u001b[39;00m comment_box:\n\u001b[0;32m----> 2\u001b[0m     \u001b[38;5;28mprint\u001b[39m(\u001b[43mi\u001b[49m\u001b[38;5;241;43m.\u001b[39;49m\u001b[43mdiv\u001b[49m\u001b[38;5;241;43m.\u001b[39;49m\u001b[43mdiv\u001b[49m\u001b[38;5;241m.\u001b[39mdiv\u001b[38;5;241m.\u001b[39mdiv\u001b[38;5;241m.\u001b[39mtext)\n",
      "\u001b[0;31mAttributeError\u001b[0m: 'NoneType' object has no attribute 'div'"
     ]
    }
   ],
   "source": [
    "for i in comment_box:\n",
    "    print(i.div.div.div.div.text)"
   ]
  },
  {
   "cell_type": "code",
   "execution_count": 93,
   "id": "3aee772a-690f-4f65-921c-238a61b4f822",
   "metadata": {},
   "outputs": [
    {
     "name": "stdout",
     "output_type": "stream",
     "text": [
      "Terrible product\n",
      "Decent product\n",
      "Terrific\n",
      "Fabulous!\n",
      "Highly recommended\n",
      "Value-for-money\n",
      "Just okay\n",
      "Highly recommended\n",
      "Unsatisfactory\n",
      "Terrific\n"
     ]
    },
    {
     "ename": "AttributeError",
     "evalue": "'NoneType' object has no attribute 'div'",
     "output_type": "error",
     "traceback": [
      "\u001b[0;31m---------------------------------------------------------------------------\u001b[0m",
      "\u001b[0;31mAttributeError\u001b[0m                            Traceback (most recent call last)",
      "Cell \u001b[0;32mIn[93], line 2\u001b[0m\n\u001b[1;32m      1\u001b[0m \u001b[38;5;28;01mfor\u001b[39;00m i \u001b[38;5;129;01min\u001b[39;00m comment_box:\n\u001b[0;32m----> 2\u001b[0m     \u001b[38;5;28mprint\u001b[39m(\u001b[43mi\u001b[49m\u001b[38;5;241;43m.\u001b[39;49m\u001b[43mdiv\u001b[49m\u001b[38;5;241;43m.\u001b[39;49m\u001b[43mdiv\u001b[49m\u001b[38;5;241m.\u001b[39mdiv\u001b[38;5;241m.\u001b[39mp\u001b[38;5;241m.\u001b[39mtext)\n",
      "\u001b[0;31mAttributeError\u001b[0m: 'NoneType' object has no attribute 'div'"
     ]
    }
   ],
   "source": [
    "for i in comment_box:\n",
    "    print(i.div.div.div.p.text)"
   ]
  },
  {
   "cell_type": "code",
   "execution_count": 94,
   "id": "03da05a7-981e-41d4-a089-977941142777",
   "metadata": {},
   "outputs": [
    {
     "name": "stdout",
     "output_type": "stream",
     "text": [
      "Do not buy this product. Waste of money\n",
      "\n",
      "Good\n",
      "\n",
      "Nice\n",
      "\n",
      "Good\n",
      "\n",
      "The phone is great ....only thing that is missing is stereo speakers\n",
      "\n",
      "Good\n",
      "\n",
      "Very slow second space changing\n",
      "\n",
      "Nice phone\n",
      "\n",
      "Phone not good very slow my money is wrest\n",
      "\n",
      "Good product\n",
      "\n"
     ]
    },
    {
     "ename": "AttributeError",
     "evalue": "'NoneType' object has no attribute 'div'",
     "output_type": "error",
     "traceback": [
      "\u001b[0;31m---------------------------------------------------------------------------\u001b[0m",
      "\u001b[0;31mAttributeError\u001b[0m                            Traceback (most recent call last)",
      "Cell \u001b[0;32mIn[94], line 2\u001b[0m\n\u001b[1;32m      1\u001b[0m \u001b[38;5;28;01mfor\u001b[39;00m i \u001b[38;5;129;01min\u001b[39;00m comment_box:\n\u001b[0;32m----> 2\u001b[0m     \u001b[38;5;28mprint\u001b[39m(\u001b[43mi\u001b[49m\u001b[38;5;241;43m.\u001b[39;49m\u001b[43mdiv\u001b[49m\u001b[38;5;241;43m.\u001b[39;49m\u001b[43mdiv\u001b[49m\u001b[38;5;241m.\u001b[39mfind_all(\u001b[38;5;124m'\u001b[39m\u001b[38;5;124mdiv\u001b[39m\u001b[38;5;124m'\u001b[39m,{\u001b[38;5;124m\"\u001b[39m\u001b[38;5;124mclass\u001b[39m\u001b[38;5;124m\"\u001b[39m:\u001b[38;5;124m'\u001b[39m\u001b[38;5;124m'\u001b[39m})[\u001b[38;5;241m0\u001b[39m]\u001b[38;5;241m.\u001b[39mdiv\u001b[38;5;241m.\u001b[39mtext)\n\u001b[1;32m      3\u001b[0m     \u001b[38;5;28mprint\u001b[39m( )\n",
      "\u001b[0;31mAttributeError\u001b[0m: 'NoneType' object has no attribute 'div'"
     ]
    }
   ],
   "source": [
    "for i in comment_box:\n",
    "    print(i.div.div.find_all('div',{\"class\":''})[0].div.text)\n",
    "    print( )"
   ]
  },
  {
   "cell_type": "code",
   "execution_count": 95,
   "id": "6b7aa805-33b5-47f8-aa0d-c1c12b1068b1",
   "metadata": {},
   "outputs": [
    {
     "name": "stdout",
     "output_type": "stream",
     "text": [
      "https://www.flipkart.com/redmi-note-12-5g-matte-black-128-gb/p/itmce9f4bcbb7fdc?pid=MOBGHNFJYJ5YNYFF&lid=LSTMOBGHNFJYJ5YNYFFJPNMHK&marketplace=FLIPKART&q=redminote125g&store=tyy%2F4io&srno=s_1_2&otracker=search&fm=organic&iid=000e0642-ba21-4603-9863-57034d01ccfe.MOBGHNFJYJ5YNYFF.SEARCH&ppt=None&ppn=None&ssid=dvbwmxdths0000001687494034247&qH=6f1e45d34b7cc372\n",
      "https://www.flipkart.com/redmi-note-12-5g-matte-black-128-gb/p/itmd0f3dc327bca7?pid=MOBGHNFJPHFFUYM7&lid=LSTMOBGHNFJPHFFUYM7BFWGNA&marketplace=FLIPKART&q=redminote125g&store=tyy%2F4io&srno=s_1_3&otracker=search&fm=organic&iid=000e0642-ba21-4603-9863-57034d01ccfe.MOBGHNFJPHFFUYM7.SEARCH&ppt=None&ppn=None&ssid=dvbwmxdths0000001687494034247&qH=6f1e45d34b7cc372\n",
      "https://www.flipkart.com/redmi-note-12-5g-frosted-green-128-gb/p/itm5dca1d1573fd8?pid=MOBGHNFJHHA6ZVM2&lid=LSTMOBGHNFJHHA6ZVM28SLEFP&marketplace=FLIPKART&q=redminote125g&store=tyy%2F4io&srno=s_1_4&otracker=search&fm=organic&iid=000e0642-ba21-4603-9863-57034d01ccfe.MOBGHNFJHHA6ZVM2.SEARCH&ppt=None&ppn=None&ssid=dvbwmxdths0000001687494034247&qH=6f1e45d34b7cc372\n",
      "https://www.flipkart.com/redmi-note-12-5g-matte-black-256-gb/p/itmd22fe65114bd9?pid=MOBGPGBZEHZYWQZX&lid=LSTMOBGPGBZEHZYWQZXGZHYI3&marketplace=FLIPKART&q=redminote125g&store=tyy%2F4io&srno=s_1_5&otracker=search&fm=organic&iid=000e0642-ba21-4603-9863-57034d01ccfe.MOBGPGBZEHZYWQZX.SEARCH&ppt=None&ppn=None&ssid=dvbwmxdths0000001687494034247&qH=6f1e45d34b7cc372\n",
      "https://www.flipkart.com/redmi-note-12-5g-mystique-blue-256-gb/p/itm315369373c048?pid=MOBGPGBZHPTYTRM4&lid=LSTMOBGPGBZHPTYTRM4GCQ4FW&marketplace=FLIPKART&q=redminote125g&store=tyy%2F4io&srno=s_1_6&otracker=search&fm=organic&iid=000e0642-ba21-4603-9863-57034d01ccfe.MOBGPGBZHPTYTRM4.SEARCH&ppt=None&ppn=None&ssid=dvbwmxdths0000001687494034247&qH=6f1e45d34b7cc372\n",
      "https://www.flipkart.com/redmi-note-12-5g-frosted-green-256-gb/p/itm938718cc5cef4?pid=MOBGPGBZYESEZDEW&lid=LSTMOBGPGBZYESEZDEWN7ZMFJ&marketplace=FLIPKART&q=redminote125g&store=tyy%2F4io&srno=s_1_7&otracker=search&fm=organic&iid=000e0642-ba21-4603-9863-57034d01ccfe.MOBGPGBZYESEZDEW.SEARCH&ppt=None&ppn=None&ssid=dvbwmxdths0000001687494034247&qH=6f1e45d34b7cc372\n",
      "https://www.flipkart.com/redmi-note-12-pro-5g-obsidian-black-256-gb/p/itm91af760b68910?pid=MOBGH2UVUGR9N5FW&lid=LSTMOBGH2UVUGR9N5FWMEJHWA&marketplace=FLIPKART&q=redminote125g&store=tyy%2F4io&srno=s_1_8&otracker=search&fm=organic&iid=000e0642-ba21-4603-9863-57034d01ccfe.MOBGH2UVUGR9N5FW.SEARCH&ppt=None&ppn=None&ssid=dvbwmxdths0000001687494034247&qH=6f1e45d34b7cc372\n",
      "https://www.flipkart.com/redmi-note-12-pro-5g-stardust-purple-256-gb/p/itmb3d6f68dfb5d2?pid=MOBGH2UVFMVF8PHG&lid=LSTMOBGH2UVFMVF8PHGSDDKSJ&marketplace=FLIPKART&q=redminote125g&store=tyy%2F4io&srno=s_1_9&otracker=search&fm=organic&iid=000e0642-ba21-4603-9863-57034d01ccfe.MOBGH2UVFMVF8PHG.SEARCH&ppt=None&ppn=None&ssid=dvbwmxdths0000001687494034247&qH=6f1e45d34b7cc372\n",
      "https://www.flipkart.com/redmi-note-12-pro-5g-glacier-blue-128-gb/p/itm8fbee21008560?pid=MOBGH2UVZHHQGRRP&lid=LSTMOBGH2UVZHHQGRRPHUPSMM&marketplace=FLIPKART&q=redminote125g&store=tyy%2F4io&srno=s_1_10&otracker=search&fm=organic&iid=000e0642-ba21-4603-9863-57034d01ccfe.MOBGH2UVZHHQGRRP.SEARCH&ppt=None&ppn=None&ssid=dvbwmxdths0000001687494034247&qH=6f1e45d34b7cc372\n",
      "https://www.flipkart.com/redmi-note-12-pro-5g-stardust-purple-128-gb/p/itm5c263b91bc0d7?pid=MOBGH2UVWGPENHHR&lid=LSTMOBGH2UVWGPENHHRD63VRD&marketplace=FLIPKART&q=redminote125g&store=tyy%2F4io&srno=s_1_11&otracker=search&fm=organic&iid=000e0642-ba21-4603-9863-57034d01ccfe.MOBGH2UVWGPENHHR.SEARCH&ppt=None&ppn=None&ssid=dvbwmxdths0000001687494034247&qH=6f1e45d34b7cc372\n",
      "https://www.flipkart.com/redmi-note-12-pro-5g-arctic-white-256-gb/p/itm715c45001499f?pid=MOBGH2UVGHVFKYFF&lid=LSTMOBGH2UVGHVFKYFFXUZARK&marketplace=FLIPKART&q=redminote125g&store=tyy%2F4io&srno=s_1_12&otracker=search&fm=organic&iid=000e0642-ba21-4603-9863-57034d01ccfe.MOBGH2UVGHVFKYFF.SEARCH&ppt=None&ppn=None&ssid=dvbwmxdths0000001687494034247&qH=6f1e45d34b7cc372\n",
      "https://www.flipkart.com/redmi-note-12-pro-5g-glacier-blue-256-gb/p/itm62978004cf8a8?pid=MOBGH2UVHWEZKFX2&lid=LSTMOBGH2UVHWEZKFX2Y1VWDD&marketplace=FLIPKART&q=redminote125g&store=tyy%2F4io&srno=s_1_13&otracker=search&fm=organic&iid=000e0642-ba21-4603-9863-57034d01ccfe.MOBGH2UVHWEZKFX2.SEARCH&ppt=None&ppn=None&ssid=dvbwmxdths0000001687494034247&qH=6f1e45d34b7cc372\n",
      "https://www.flipkart.com/redmi-note-12-pro-5g-onyx-black-128-gb/p/itmbc9fd7adaa32a?pid=MOBGH2UVMHEPGSHM&lid=LSTMOBGH2UVMHEPGSHMZTFAGO&marketplace=FLIPKART&q=redminote125g&store=tyy%2F4io&srno=s_1_14&otracker=search&fm=organic&iid=000e0642-ba21-4603-9863-57034d01ccfe.MOBGH2UVMHEPGSHM.SEARCH&ppt=None&ppn=None&ssid=dvbwmxdths0000001687494034247&qH=6f1e45d34b7cc372\n",
      "https://www.flipkart.com/redmi-note-12-pro-5g-iceberg-blue-256-gb/p/itmdeba28a40f374?pid=MOBGH2UVAVEDXJPK&lid=LSTMOBGH2UVAVEDXJPKVVTG7P&marketplace=FLIPKART&q=redminote125g&store=tyy%2F4io&srno=s_1_15&otracker=search&fm=organic&iid=000e0642-ba21-4603-9863-57034d01ccfe.MOBGH2UVAVEDXJPK.SEARCH&ppt=None&ppn=None&ssid=dvbwmxdths0000001687494034247&qH=6f1e45d34b7cc372\n",
      "https://www.flipkart.com/redmi-note-12-pro-5g-glacier-blue-128-gb/p/itm901d014109d8a?pid=MOBGH2UVHFEZHYE6&lid=LSTMOBGH2UVHFEZHYE6QD6LRZ&marketplace=FLIPKART&q=redminote125g&store=tyy%2F4io&srno=s_1_16&otracker=search&fm=organic&iid=000e0642-ba21-4603-9863-57034d01ccfe.MOBGH2UVHFEZHYE6.SEARCH&ppt=None&ppn=None&ssid=dvbwmxdths0000001687494034247&qH=6f1e45d34b7cc372\n",
      "https://www.flipkart.com/redmi-note-12-pro-5g-arctic-white-256-gb/p/itme25a071508595?pid=MOBGH2UVFZJ8HFRN&lid=LSTMOBGH2UVFZJ8HFRNXP0KHJ&marketplace=FLIPKART&q=redminote125g&store=tyy%2F4io&spotlightTagId=FkPickId_tyy%2F4io&srno=s_1_17&otracker=search&fm=organic&iid=000e0642-ba21-4603-9863-57034d01ccfe.MOBGH2UVFZJ8HFRN.SEARCH&ppt=None&ppn=None&ssid=dvbwmxdths0000001687494034247&qH=6f1e45d34b7cc372\n",
      "https://www.flipkart.com/redmi-note-10s-cosmic-purple-64-gb/p/itm2a1b4b90344a3?pid=MOBG62SFDH9CEJWG&lid=LSTMOBG62SFDH9CEJWGV1Z3ZN&marketplace=FLIPKART&q=redminote125g&store=tyy%2F4io&srno=s_1_18&otracker=search&fm=organic&iid=000e0642-ba21-4603-9863-57034d01ccfe.MOBG62SFDH9CEJWG.SEARCH&ppt=None&ppn=None&ssid=dvbwmxdths0000001687494034247&qH=6f1e45d34b7cc372\n",
      "https://www.flipkart.com/redmi-note-5-rose-gold-32-gb/p/itmf2fc3aq98t7kh?pid=MOBF28FTRFXVATVQ&lid=LSTMOBF28FTRFXVATVQNJVVTH&marketplace=FLIPKART&q=redminote125g&store=tyy%2F4io&srno=s_1_19&otracker=search&fm=organic&iid=000e0642-ba21-4603-9863-57034d01ccfe.MOBF28FTRFXVATVQ.SEARCH&ppt=None&ppn=None&ssid=dvbwmxdths0000001687494034247&qH=6f1e45d34b7cc372\n",
      "https://www.flipkart.com/redmi-note-5-black-32-gb/p/itmf2fc33zekgeys?pid=MOBF28FTGXFYNXX2&lid=LSTMOBF28FTGXFYNXX2RKBHLZ&marketplace=FLIPKART&q=redminote125g&store=tyy%2F4io&srno=s_1_20&otracker=search&fm=organic&iid=000e0642-ba21-4603-9863-57034d01ccfe.MOBF28FTGXFYNXX2.SEARCH&ppt=None&ppn=None&ssid=dvbwmxdths0000001687494034247&qH=6f1e45d34b7cc372\n",
      "https://www.flipkart.com/redmi-note-4-gold-64-gb/p/itmeqg86fjyzkdq8?pid=MOBEQ98MNXHY4RU9&lid=LSTMOBEQ98MNXHY4RU93CMNP9&marketplace=FLIPKART&q=redminote125g&store=tyy%2F4io&srno=s_1_21&otracker=search&fm=organic&iid=000e0642-ba21-4603-9863-57034d01ccfe.MOBEQ98MNXHY4RU9.SEARCH&ppt=None&ppn=None&ssid=dvbwmxdths0000001687494034247&qH=6f1e45d34b7cc372\n",
      "https://www.flipkart.com/redmi-note-5-gold-64-gb/p/itmf2fc32mfgtcjw?pid=MOBF28FTHEP6NDYB&lid=LSTMOBF28FTHEP6NDYBDVDLFX&marketplace=FLIPKART&q=redminote125g&store=tyy%2F4io&srno=s_1_22&otracker=search&fm=organic&iid=000e0642-ba21-4603-9863-57034d01ccfe.MOBF28FTHEP6NDYB.SEARCH&ppt=None&ppn=None&ssid=dvbwmxdths0000001687494034247&qH=6f1e45d34b7cc372\n",
      "https://www.flipkart.com/redmi-note-5-black-64-gb/p/itmf2fc3phdkgahv?pid=MOBF28FTXZYZ6UYJ&lid=LSTMOBF28FTXZYZ6UYJSQJJLU&marketplace=FLIPKART&q=redminote125g&store=tyy%2F4io&srno=s_1_23&otracker=search&fm=organic&iid=000e0642-ba21-4603-9863-57034d01ccfe.MOBF28FTXZYZ6UYJ.SEARCH&ppt=None&ppn=None&ssid=dvbwmxdths0000001687494034247&qH=6f1e45d34b7cc372\n",
      "https://www.flipkart.com/redmi-note-5-gold-32-gb/p/itmf2fc39bfw7kyc?pid=MOBF28FTQYA9BFW5&lid=LSTMOBF28FTQYA9BFW5XJRGOI&marketplace=FLIPKART&q=redminote125g&store=tyy%2F4io&srno=s_1_24&otracker=search&fm=organic&iid=000e0642-ba21-4603-9863-57034d01ccfe.MOBF28FTQYA9BFW5.SEARCH&ppt=None&ppn=None&ssid=dvbwmxdths0000001687494034247&qH=6f1e45d34b7cc372\n"
     ]
    },
    {
     "ename": "AttributeError",
     "evalue": "'NoneType' object has no attribute 'a'",
     "output_type": "error",
     "traceback": [
      "\u001b[0;31m---------------------------------------------------------------------------\u001b[0m",
      "\u001b[0;31mAttributeError\u001b[0m                            Traceback (most recent call last)",
      "Cell \u001b[0;32mIn[95], line 2\u001b[0m\n\u001b[1;32m      1\u001b[0m \u001b[38;5;28;01mfor\u001b[39;00m i \u001b[38;5;129;01min\u001b[39;00m bigbox:\n\u001b[0;32m----> 2\u001b[0m     \u001b[38;5;28mprint\u001b[39m(\u001b[38;5;124m\"\u001b[39m\u001b[38;5;124mhttps://www.flipkart.com\u001b[39m\u001b[38;5;124m\"\u001b[39m\u001b[38;5;241m+\u001b[39m\u001b[43mi\u001b[49m\u001b[38;5;241;43m.\u001b[39;49m\u001b[43mdiv\u001b[49m\u001b[38;5;241;43m.\u001b[39;49m\u001b[43mdiv\u001b[49m\u001b[38;5;241;43m.\u001b[39;49m\u001b[43mdiv\u001b[49m\u001b[38;5;241;43m.\u001b[39;49m\u001b[43ma\u001b[49m[\u001b[38;5;124m'\u001b[39m\u001b[38;5;124mhref\u001b[39m\u001b[38;5;124m'\u001b[39m])\n",
      "\u001b[0;31mAttributeError\u001b[0m: 'NoneType' object has no attribute 'a'"
     ]
    }
   ],
   "source": [
    "for i in bigbox:\n",
    "    print(\"https://www.flipkart.com\"+i.div.div.div.a['href'])"
   ]
  },
  {
   "cell_type": "code",
   "execution_count": null,
   "id": "6fdb76c4-3c05-434d-ae6b-20e1bda3ea97",
   "metadata": {},
   "outputs": [],
   "source": []
  }
 ],
 "metadata": {
  "kernelspec": {
   "display_name": "Python 3 (ipykernel)",
   "language": "python",
   "name": "python3"
  },
  "language_info": {
   "codemirror_mode": {
    "name": "ipython",
    "version": 3
   },
   "file_extension": ".py",
   "mimetype": "text/x-python",
   "name": "python",
   "nbconvert_exporter": "python",
   "pygments_lexer": "ipython3",
   "version": "3.10.8"
  }
 },
 "nbformat": 4,
 "nbformat_minor": 5
}
